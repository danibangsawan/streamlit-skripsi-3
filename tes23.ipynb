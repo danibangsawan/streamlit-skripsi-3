{
  "cells": [
    {
      "cell_type": "code",
      "execution_count": 6,
      "metadata": {
        "id": "i8FsLknxJ-Ox"
      },
      "outputs": [],
      "source": [
        "import pandas as pd\n",
        "from sklearn.metrics import confusion_matrix, classification_report\n",
        "from tabulate import tabulate\n",
        "from sklearn.model_selection import train_test_split\n",
        "from sklearn.svm import SVC\n",
        "import seaborn as sns\n",
        "import matplotlib.pyplot as plt"
      ]
    },
    {
      "cell_type": "code",
      "execution_count": 7,
      "metadata": {
        "colab": {
          "base_uri": "https://localhost:8080/"
        },
        "id": "ZUm3I1f8IlRf",
        "outputId": "ccf524ea-4aaa-413b-f869-216eadab6c99"
      },
      "outputs": [
        {
          "name": "stdout",
          "output_type": "stream",
          "text": [
            "+----+-------------+-------------+-------+-------+-------+-------+-------+-------+-------+-------+-------+--------+\n",
            "|    | Responden   | Aplikasi    |   KP1 |   KP2 |   KP3 |   KP4 |   KP5 |   KP6 |   KP7 |   KP8 |   KP9 |   KP10 |\n",
            "+====+=============+=============+=======+=======+=======+=======+=======+=======+=======+=======+=======+========+\n",
            "|  0 | R1          | Spotify     |     3 |     3 |     3 |     3 |     3 |     2 |     3 |     4 |     3 |      3 |\n",
            "+----+-------------+-------------+-------+-------+-------+-------+-------+-------+-------+-------+-------+--------+\n",
            "|  1 | R2          | Spotify     |     2 |     4 |     4 |     4 |     4 |     4 |     4 |     3 |     3 |      4 |\n",
            "+----+-------------+-------------+-------+-------+-------+-------+-------+-------+-------+-------+-------+--------+\n",
            "|  2 | R3          | Apple Music |     3 |     4 |     4 |     3 |     3 |     3 |     4 |     4 |     2 |      3 |\n",
            "+----+-------------+-------------+-------+-------+-------+-------+-------+-------+-------+-------+-------+--------+\n",
            "|  3 | R4          | Spotify     |     4 |     4 |     3 |     3 |     4 |     3 |     3 |     4 |     4 |      4 |\n",
            "+----+-------------+-------------+-------+-------+-------+-------+-------+-------+-------+-------+-------+--------+\n",
            "|  4 | R5          | Spotify     |     4 |     4 |     4 |     4 |     4 |     4 |     4 |     4 |     4 |      4 |\n",
            "+----+-------------+-------------+-------+-------+-------+-------+-------+-------+-------+-------+-------+--------+\n"
          ]
        }
      ],
      "source": [
        "# Baca data dari file CSV\n",
        "df = pd.read_csv('data_kuesioner.csv', sep=';')\n",
        "\n",
        "print(tabulate(df.head(5), headers='keys', tablefmt='grid'))"
      ]
    },
    {
      "cell_type": "code",
      "execution_count": 8,
      "metadata": {
        "id": "JTThjXJKEg46"
      },
      "outputs": [],
      "source": [
        "kp_columns = [f'KP{i}' for i in range(1, 11)]"
      ]
    },
    {
      "cell_type": "code",
      "execution_count": 9,
      "metadata": {
        "id": "V9WY6yokEpWg"
      },
      "outputs": [],
      "source": [
        "df['Rata_rata'] = df[kp_columns].astype(int).mean(axis=1)"
      ]
    },
    {
      "cell_type": "code",
      "execution_count": 10,
      "metadata": {
        "id": "QFpeXF6xE1e6"
      },
      "outputs": [],
      "source": [
        "df['Kepuasan'] = df['Rata_rata'].apply(lambda x: 'Puas' if x >= 3.5 else 'Tidak Puas')"
      ]
    },
    {
      "cell_type": "code",
      "execution_count": 11,
      "metadata": {
        "colab": {
          "base_uri": "https://localhost:8080/"
        },
        "id": "jo4eTTG6E4vh",
        "outputId": "05fd45af-5177-486c-cb6e-4e3c0dc17a89"
      },
      "outputs": [
        {
          "name": "stdout",
          "output_type": "stream",
          "text": [
            "Data dengan Kategori Kepuasan:\n",
            "    Responden     Aplikasi  Rata_rata    Kepuasan\n",
            "0          R1      Spotify        3.0  Tidak Puas\n",
            "1          R2      Spotify        3.6        Puas\n",
            "2          R3  Apple Music        3.3  Tidak Puas\n",
            "3          R4      Spotify        3.6        Puas\n",
            "4          R5      Spotify        4.0        Puas\n",
            "..        ...          ...        ...         ...\n",
            "235      R236  Apple Music        2.6  Tidak Puas\n",
            "236      R237      Spotify        4.0        Puas\n",
            "237      R238      Spotify        3.9        Puas\n",
            "238      R239      Spotify        3.6        Puas\n",
            "239      R240  Apple Music        3.5        Puas\n",
            "\n",
            "[240 rows x 4 columns]\n"
          ]
        }
      ],
      "source": [
        "print(\"Data dengan Kategori Kepuasan:\")\n",
        "print(df[['Responden', 'Aplikasi', 'Rata_rata', 'Kepuasan']])"
      ]
    },
    {
      "cell_type": "code",
      "execution_count": 12,
      "metadata": {
        "colab": {
          "base_uri": "https://localhost:8080/"
        },
        "id": "kGWQb0yUE90o",
        "outputId": "c29422e6-35c2-46aa-84f1-37a0a530198f"
      },
      "outputs": [
        {
          "name": "stdout",
          "output_type": "stream",
          "text": [
            "\n",
            "Jumlah Kepuasan untuk Setiap Aplikasi:\n",
            "Kepuasan     Puas  Tidak Puas\n",
            "Aplikasi                     \n",
            "Apple Music    40          39\n",
            "Spotify       113          48\n"
          ]
        }
      ],
      "source": [
        "kepuasan_counts = df.groupby(['Aplikasi', 'Kepuasan']).size().unstack(fill_value=0)\n",
        "\n",
        "print(\"\\nJumlah Kepuasan untuk Setiap Aplikasi:\")\n",
        "print(kepuasan_counts)"
      ]
    },
    {
      "cell_type": "code",
      "execution_count": 13,
      "metadata": {
        "colab": {
          "base_uri": "https://localhost:8080/"
        },
        "id": "lzn9XaTfFL7h",
        "outputId": "e43c11f0-438e-4cd4-ca7f-f8297adbce54"
      },
      "outputs": [
        {
          "name": "stdout",
          "output_type": "stream",
          "text": [
            "\n",
            "Persentase Kepuasan untuk Setiap Aplikasi (%):\n",
            "Kepuasan      Puas  Tidak Puas\n",
            "Aplikasi                      \n",
            "Apple Music  50.63       49.37\n",
            "Spotify      70.19       29.81\n"
          ]
        }
      ],
      "source": [
        "kepuasan_percent = kepuasan_counts.div(kepuasan_counts.sum(axis=1), axis=0) * 100\n",
        "\n",
        "print(\"\\nPersentase Kepuasan untuk Setiap Aplikasi (%):\")\n",
        "print(kepuasan_percent.round(2))"
      ]
    },
    {
      "cell_type": "code",
      "execution_count": 14,
      "metadata": {
        "id": "i2EcosLJM_z7"
      },
      "outputs": [],
      "source": [
        "# Simpan DataFrame ke file CSV\n",
        "df[['Responden', 'Aplikasi', 'Rata_rata', 'Kepuasan']].to_csv('data_kepuasan.csv', index=False)"
      ]
    },
    {
      "cell_type": "code",
      "execution_count": 15,
      "metadata": {
        "colab": {
          "base_uri": "https://localhost:8080/",
          "height": 507
        },
        "id": "Kd6fbZ8ywG1b",
        "outputId": "1004c454-b583-468c-d6bb-bdd8b543161a"
      },
      "outputs": [
        {
          "data": {
            "image/png": "[encoded data removed]",
            "text/plain": [
              "<Figure size 800x500 with 1 Axes>"
            ]
          },
          "metadata": {},
          "output_type": "display_data"
        }
      ],
      "source": [
        "# Data\n",
        "data = {\n",
        "    \"Aplikasi\": [\"Apple Music\", \"Spotify\"],\n",
        "    \"Puas\": [50.63, 70.19],\n",
        "    \"Tidak Puas\": [49.37, 29.81]\n",
        "}\n",
        "\n",
        "# Konversi data ke DataFrame\n",
        "df = pd.DataFrame(data)\n",
        "\n",
        "# Membuat plot batang\n",
        "fig, ax = plt.subplots(figsize=(8, 5))\n",
        "\n",
        "# Menentukan posisi batang\n",
        "bar_width = 0.35\n",
        "index = range(len(df))\n",
        "\n",
        "# Membuat batang untuk \"Puas\" dan \"Tidak Puas\"\n",
        "bar1 = ax.bar(index, df[\"Puas\"], bar_width, label=\"Puas\")\n",
        "bar2 = ax.bar([i + bar_width for i in index], df[\"Tidak Puas\"], bar_width, label=\"Tidak Puas\")\n",
        "\n",
        "# Menambahkan label jumlah dan persentase\n",
        "for i, rect in enumerate(bar1):\n",
        "    height = rect.get_height()\n",
        "    ax.text(rect.get_x() + rect.get_width() / 2, height + 1, f'{df[\"Puas\"][i]:.2f}%',\n",
        "            ha='center', va='bottom', fontsize=10)\n",
        "\n",
        "for i, rect in enumerate(bar2):\n",
        "    height = rect.get_height()\n",
        "    ax.text(rect.get_x() + rect.get_width() / 2, height + 1, f'{df[\"Tidak Puas\"][i]:.2f}%',\n",
        "            ha='center', va='bottom', fontsize=10)\n",
        "\n",
        "# Menambahkan label sumbu X dan Y\n",
        "ax.set_xlabel('Aplikasi')\n",
        "ax.set_ylabel('Persentase (%)')\n",
        "ax.set_title('Tingkat Kepuasan Pengguna')\n",
        "ax.set_xticks([i + bar_width / 2 for i in index])\n",
        "ax.set_xticklabels(df[\"Aplikasi\"])\n",
        "\n",
        "# Menetapkan batasan Y agar lebih jelas\n",
        "plt.ylim(0, 100)\n",
        "\n",
        "# Menampilkan legend\n",
        "ax.legend()\n",
        "\n",
        "# Menampilkan plot\n",
        "plt.tight_layout()\n",
        "plt.show()"
      ]
    }
  ],
  "metadata": {
    "colab": {
      "provenance": []
    },
    "kernelspec": {
      "display_name": "Python 3",
      "name": "python3"
    },
    "language_info": {
      "codemirror_mode": {
        "name": "ipython",
        "version": 3
      },
      "file_extension": ".py",
      "mimetype": "text/x-python",
      "name": "python",
      "nbconvert_exporter": "python",
      "pygments_lexer": "ipython3",
      "version": "3.13.7"
    }
  },
  "nbformat": 4,
  "nbformat_minor": 0
}
